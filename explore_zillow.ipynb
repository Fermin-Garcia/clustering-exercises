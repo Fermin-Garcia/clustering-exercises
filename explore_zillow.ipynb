{
 "cells": [
  {
   "cell_type": "code",
   "execution_count": 1,
   "id": "1c41569f-9ba2-4106-b15d-b684962f074f",
   "metadata": {},
   "outputs": [
    {
     "name": "stdin",
     "output_type": "stream",
     "text": [
      "Enter the name of the database:  zillow\n"
     ]
    }
   ],
   "source": [
    "#standard ds\n",
    "import pandas as pd\n",
    "import numpy as np\n",
    "import prepare as p\n",
    "\n",
    "#viz and stats\n",
    "import seaborn as sns\n",
    "import matplotlib.pyplot as plt\n",
    "from scipy import stats\n",
    "\n"
   ]
  },
  {
   "cell_type": "markdown",
   "id": "1d0aef03-6765-40cf-99a1-5c334a8851e4",
   "metadata": {},
   "source": [
    "# Ask at least 5 questions about the data, keeping in mind that your target variable is logerror. e.g. \n",
    "# Is logerror significantly different for properties in LA County vs Orange County vs Ventura County?"
   ]
  },
  {
   "cell_type": "code",
   "execution_count": 2,
   "id": "5069e8e8-5122-4d2b-9dfb-12ffbc5880c2",
   "metadata": {},
   "outputs": [],
   "source": [
    "df = p.wrangle_zillow()"
   ]
  },
  {
   "cell_type": "code",
   "execution_count": 31,
   "id": "f6e0b661-d340-46fe-bf03-3036d7617e9a",
   "metadata": {},
   "outputs": [],
   "source": [
    "(df.isna().sum())/(len(df)) *100\n",
    "df.dropna(inplace=True)"
   ]
  },
  {
   "cell_type": "code",
   "execution_count": 43,
   "id": "0eba256b-d092-46cb-a3e1-cb6d7a7a1257",
   "metadata": {},
   "outputs": [],
   "source": [
    "drop_table_list = []\n",
    "for cols in df.columns:\n",
    "    if 'typeid' in cols:\n",
    "        drop_table_list.append(cols)\n",
    "        drop_table_list.append('roomcnt')\n",
    "df.drop(columns=drop_table_list, inplace=True)"
   ]
  },
  {
   "cell_type": "markdown",
   "id": "b0ad3d74-83f9-41cf-ab02-3893c501f494",
   "metadata": {},
   "source": [
    "### Looking for all values to see if it is relevant for the data set"
   ]
  },
  {
   "cell_type": "code",
   "execution_count": 39,
   "id": "094d8afa-1ed6-4d7d-b353-0f9bb19e0563",
   "metadata": {},
   "outputs": [
    {
     "data": {
      "text/plain": [
       "1.0    44100\n",
       "2.0       14\n",
       "6.0        1\n",
       "4.0        1\n",
       "Name: unitcnt, dtype: int64"
      ]
     },
     "execution_count": 39,
     "metadata": {},
     "output_type": "execute_result"
    }
   ],
   "source": [
    "cnt_df.roomcnt.value_counts()\n",
    "cnt_df.unitcnt.value_counts()"
   ]
  },
  {
   "cell_type": "markdown",
   "id": "f2cae37c-c61e-461c-9b4f-1c2c65a19c74",
   "metadata": {},
   "source": [
    "We can see that some all the calues are 0.0 so we can confidently drop these values."
   ]
  },
  {
   "cell_type": "code",
   "execution_count": 40,
   "id": "affef0f7-b810-4ad5-a62d-c695e4e39e36",
   "metadata": {},
   "outputs": [],
   "source": [
    "# I'm going to add it to a list to drop it.  \n",
    "drop_list_two = ['roomcnt']\n",
    "df.drop(columns=drop_list_two)"
   ]
  },
  {
   "cell_type": "code",
   "execution_count": null,
   "id": "0f2d8637-f809-431a-a790-2c208c1236d1",
   "metadata": {},
   "outputs": [],
   "source": [
    "# Here we are looking at the values and \n",
    "# make our best judgments on which might \n",
    "# single family homes \n"
   ]
  },
  {
   "cell_type": "code",
   "execution_count": 52,
   "id": "d25dacc8-fab4-4c58-9826-bea02305a2ee",
   "metadata": {},
   "outputs": [
    {
     "data": {
      "text/plain": [
       "Single Family Residential    32139\n",
       "Condominium                  10204\n",
       "Planned Unit Development      1734\n",
       "Cooperative                     29\n",
       "Residential General              9\n",
       "Townhouse                        1\n",
       "Name: propertylandusedesc, dtype: int64"
      ]
     },
     "execution_count": 52,
     "metadata": {},
     "output_type": "execute_result"
    }
   ],
   "source": [
    "df.propertylandusedesc.value_counts()"
   ]
  },
  {
   "cell_type": "code",
   "execution_count": 61,
   "id": "2a43d54d-5395-4b3d-917f-1f963defc5ae",
   "metadata": {
    "tags": []
   },
   "outputs": [],
   "source": [
    "# Single family homes are obviously single family dwellings.\n",
    "# U.S. Census Bureau defines townhouses as single family dwellings.\n",
    "single_family_dwellings = ['Single Family Residential','Townhouse' ]"
   ]
  },
  {
   "cell_type": "code",
   "execution_count": null,
   "id": "1913d05f-961d-4774-8ee8-19f486be0a4a",
   "metadata": {},
   "outputs": [],
   "source": []
  }
 ],
 "metadata": {
  "kernelspec": {
   "display_name": "Python 3 (ipykernel)",
   "language": "python",
   "name": "python3"
  },
  "language_info": {
   "codemirror_mode": {
    "name": "ipython",
    "version": 3
   },
   "file_extension": ".py",
   "mimetype": "text/x-python",
   "name": "python",
   "nbconvert_exporter": "python",
   "pygments_lexer": "ipython3",
   "version": "3.10.9"
  }
 },
 "nbformat": 4,
 "nbformat_minor": 5
}
