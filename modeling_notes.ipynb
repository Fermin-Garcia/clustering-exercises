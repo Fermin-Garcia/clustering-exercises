{
 "cells": [
  {
   "cell_type": "code",
   "execution_count": 3,
   "id": "d01e2aae-1a1c-4f72-ad98-949a6aa7ec5a",
   "metadata": {},
   "outputs": [],
   "source": [
    "# make clustering\n",
    "\n",
    "from pydataset import data"
   ]
  },
  {
   "cell_type": "code",
   "execution_count": null,
   "id": "e1d078bb-a3c6-4993-9e83-19fb9adb4a9a",
   "metadata": {},
   "outputs": [],
   "source": [
    "data()"
   ]
  }
 ],
 "metadata": {
  "kernelspec": {
   "display_name": "Python 3 (ipykernel)",
   "language": "python",
   "name": "python3"
  },
  "language_info": {
   "codemirror_mode": {
    "name": "ipython",
    "version": 3
   },
   "file_extension": ".py",
   "mimetype": "text/x-python",
   "name": "python",
   "nbconvert_exporter": "python",
   "pygments_lexer": "ipython3",
   "version": "3.10.9"
  }
 },
 "nbformat": 4,
 "nbformat_minor": 5
}
