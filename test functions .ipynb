{
 "cells": [
  {
   "cell_type": "code",
   "execution_count": 4,
   "id": "d37b37db-1fa4-42db-b8a9-14cd06231e8c",
   "metadata": {},
   "outputs": [
    {
     "name": "stdout",
     "output_type": "stream",
     "text": [
      "initiated datasets repo at: /Users/fermin_x/.pydataset/\n"
     ]
    }
   ],
   "source": [
    "import seaborn as sns \n",
    "import pandas as pd \n",
    "import matplotlib.pyplot as plt \n",
    "import numpy as np \n",
    "from pydataset import data"
   ]
  },
  {
   "cell_type": "code",
   "execution_count": 6,
   "id": "6dd53256-1c25-4413-b716-94e5b0738637",
   "metadata": {},
   "outputs": [],
   "source": [
    "df = data('tips')"
   ]
  },
  {
   "cell_type": "code",
   "execution_count": null,
   "id": "616c05f0-ade0-4172-bcaa-2a7a801e4f50",
   "metadata": {},
   "outputs": [],
   "source": [
    "def null_percents:\n",
    "    "
   ]
  },
  {
   "cell_type": "code",
   "execution_count": 22,
   "id": "70709fa0-b8b9-4d3a-8ebb-23a0366f538d",
   "metadata": {},
   "outputs": [
    {
     "data": {
      "text/plain": [
       "No     151\n",
       "Yes     93\n",
       "Name: smoker, dtype: int64"
      ]
     },
     "execution_count": 22,
     "metadata": {},
     "output_type": "execute_result"
    }
   ],
   "source": [
    "df.smoker.dtype"
   ]
  },
  {
   "cell_type": "code",
   "execution_count": 33,
   "id": "2582f946-fe70-4251-a1ea-1c204550ea92",
   "metadata": {},
   "outputs": [],
   "source": [
    "def df_summary(df):\n",
    "\n",
    "    # Summarize your data (summary stats, info, dtypes, shape, distributions, value_counts, etc.)\n",
    "    print(df.describe())\n",
    "    print('==============================================')\n",
    "    print(df.info())\n",
    "    print('==============================================')\n",
    "    print(df.dtypes)\n",
    "    print('==============================================')\n",
    "    print('Shape:')\n",
    "    print(df.shape)\n",
    "    print('==============================================')\n",
    "\n",
    "    # for statment that will return the value counts for each object columns \n",
    "    for col in df.columns:\n",
    "        if df[col].dtype == 'O':\n",
    "            print('Value counts for column: ', col)\n",
    "            print(df[col].value_counts())\n",
    "            print('==========================')\n",
    "        else:\n",
    "            print(f'{col}: is not an object column')\n",
    "\n"
   ]
  },
  {
   "cell_type": "code",
   "execution_count": 34,
   "id": "60d5f606-2992-4f52-bd1b-ca8655f2543d",
   "metadata": {},
   "outputs": [
    {
     "name": "stdout",
     "output_type": "stream",
     "text": [
      "       total_bill         tip        size\n",
      "count  244.000000  244.000000  244.000000\n",
      "mean    19.785943    2.998279    2.569672\n",
      "std      8.902412    1.383638    0.951100\n",
      "min      3.070000    1.000000    1.000000\n",
      "25%     13.347500    2.000000    2.000000\n",
      "50%     17.795000    2.900000    2.000000\n",
      "75%     24.127500    3.562500    3.000000\n",
      "max     50.810000   10.000000    6.000000\n",
      "==============================================\n",
      "<class 'pandas.core.frame.DataFrame'>\n",
      "Int64Index: 244 entries, 1 to 244\n",
      "Data columns (total 7 columns):\n",
      " #   Column      Non-Null Count  Dtype  \n",
      "---  ------      --------------  -----  \n",
      " 0   total_bill  244 non-null    float64\n",
      " 1   tip         244 non-null    float64\n",
      " 2   sex         244 non-null    object \n",
      " 3   smoker      244 non-null    object \n",
      " 4   day         244 non-null    object \n",
      " 5   time        244 non-null    object \n",
      " 6   size        244 non-null    int64  \n",
      "dtypes: float64(2), int64(1), object(4)\n",
      "memory usage: 15.2+ KB\n",
      "None\n",
      "==============================================\n",
      "total_bill    float64\n",
      "tip           float64\n",
      "sex            object\n",
      "smoker         object\n",
      "day            object\n",
      "time           object\n",
      "size            int64\n",
      "dtype: object\n",
      "==============================================\n",
      "Shape:\n",
      "(244, 7)\n",
      "==============================================\n",
      "total_bill: is not an object column\n",
      "tip: is not an object column\n",
      "Value counts for column:  sex\n",
      "Male      157\n",
      "Female     87\n",
      "Name: sex, dtype: int64\n",
      "==========================\n",
      "Value counts for column:  smoker\n",
      "No     151\n",
      "Yes     93\n",
      "Name: smoker, dtype: int64\n",
      "==========================\n",
      "Value counts for column:  day\n",
      "Sat     87\n",
      "Sun     76\n",
      "Thur    62\n",
      "Fri     19\n",
      "Name: day, dtype: int64\n",
      "==========================\n",
      "Value counts for column:  time\n",
      "Dinner    176\n",
      "Lunch      68\n",
      "Name: time, dtype: int64\n",
      "==========================\n",
      "size: is not an object column\n"
     ]
    }
   ],
   "source": [
    "df_summary(df)"
   ]
  },
  {
   "cell_type": "code",
   "execution_count": 40,
   "id": "08a1073c-1f5d-4a83-873f-10b8f7a7723a",
   "metadata": {},
   "outputs": [
    {
     "data": {
      "text/html": [
       "<div>\n",
       "<style scoped>\n",
       "    .dataframe tbody tr th:only-of-type {\n",
       "        vertical-align: middle;\n",
       "    }\n",
       "\n",
       "    .dataframe tbody tr th {\n",
       "        vertical-align: top;\n",
       "    }\n",
       "\n",
       "    .dataframe thead th {\n",
       "        text-align: right;\n",
       "    }\n",
       "</style>\n",
       "<table border=\"1\" class=\"dataframe\">\n",
       "  <thead>\n",
       "    <tr style=\"text-align: right;\">\n",
       "      <th></th>\n",
       "      <th>number_of_nulls</th>\n",
       "      <th>percentage_of_nulls</th>\n",
       "    </tr>\n",
       "  </thead>\n",
       "  <tbody>\n",
       "    <tr>\n",
       "      <th>0</th>\n",
       "      <td>NaN</td>\n",
       "      <td>NaN</td>\n",
       "    </tr>\n",
       "    <tr>\n",
       "      <th>1</th>\n",
       "      <td>NaN</td>\n",
       "      <td>NaN</td>\n",
       "    </tr>\n",
       "  </tbody>\n",
       "</table>\n",
       "</div>"
      ],
      "text/plain": [
       "   number_of_nulls  percentage_of_nulls\n",
       "0              NaN                  NaN\n",
       "1              NaN                  NaN"
      ]
     },
     "execution_count": 40,
     "metadata": {},
     "output_type": "execute_result"
    }
   ],
   "source": [
    "# create a dataframe that will display nulls and their percentages\n",
    "null = df.isna().sum()\n",
    "null_percent = null/df.shape[0]*100\n",
    "columns = ['number_of_nulls', 'percentage_of_nulls']\n",
    "pd.DataFrame((null, null_percent), columns=columns)"
   ]
  },
  {
   "cell_type": "code",
   "execution_count": 41,
   "id": "d706f04c-d56c-4baf-a051-65396639ca70",
   "metadata": {},
   "outputs": [],
   "source": [
    "def missing_data_info(df):\n",
    "    missing_data = df.isnull().sum().sort_values(ascending=False)\n",
    "    percent_missing = (missing_data / df.shape[0]) * 100\n",
    "    missing_data_info = pd.concat([missing_data, percent_missing], axis=1, keys=['num_rows_missing', 'pct_rows_missing'])\n",
    "    return missing_data_info"
   ]
  },
  {
   "cell_type": "code",
   "execution_count": 42,
   "id": "fae030e0-2f11-4e73-a528-f39575b41697",
   "metadata": {},
   "outputs": [
    {
     "data": {
      "text/html": [
       "<div>\n",
       "<style scoped>\n",
       "    .dataframe tbody tr th:only-of-type {\n",
       "        vertical-align: middle;\n",
       "    }\n",
       "\n",
       "    .dataframe tbody tr th {\n",
       "        vertical-align: top;\n",
       "    }\n",
       "\n",
       "    .dataframe thead th {\n",
       "        text-align: right;\n",
       "    }\n",
       "</style>\n",
       "<table border=\"1\" class=\"dataframe\">\n",
       "  <thead>\n",
       "    <tr style=\"text-align: right;\">\n",
       "      <th></th>\n",
       "      <th>num_rows_missing</th>\n",
       "      <th>pct_rows_missing</th>\n",
       "    </tr>\n",
       "  </thead>\n",
       "  <tbody>\n",
       "    <tr>\n",
       "      <th>total_bill</th>\n",
       "      <td>0</td>\n",
       "      <td>0.0</td>\n",
       "    </tr>\n",
       "    <tr>\n",
       "      <th>tip</th>\n",
       "      <td>0</td>\n",
       "      <td>0.0</td>\n",
       "    </tr>\n",
       "    <tr>\n",
       "      <th>sex</th>\n",
       "      <td>0</td>\n",
       "      <td>0.0</td>\n",
       "    </tr>\n",
       "    <tr>\n",
       "      <th>smoker</th>\n",
       "      <td>0</td>\n",
       "      <td>0.0</td>\n",
       "    </tr>\n",
       "    <tr>\n",
       "      <th>day</th>\n",
       "      <td>0</td>\n",
       "      <td>0.0</td>\n",
       "    </tr>\n",
       "    <tr>\n",
       "      <th>time</th>\n",
       "      <td>0</td>\n",
       "      <td>0.0</td>\n",
       "    </tr>\n",
       "    <tr>\n",
       "      <th>size</th>\n",
       "      <td>0</td>\n",
       "      <td>0.0</td>\n",
       "    </tr>\n",
       "  </tbody>\n",
       "</table>\n",
       "</div>"
      ],
      "text/plain": [
       "            num_rows_missing  pct_rows_missing\n",
       "total_bill                 0               0.0\n",
       "tip                        0               0.0\n",
       "sex                        0               0.0\n",
       "smoker                     0               0.0\n",
       "day                        0               0.0\n",
       "time                       0               0.0\n",
       "size                       0               0.0"
      ]
     },
     "execution_count": 42,
     "metadata": {},
     "output_type": "execute_result"
    }
   ],
   "source": [
    "missing_data_info(df)"
   ]
  }
 ],
 "metadata": {
  "kernelspec": {
   "display_name": "Python 3 (ipykernel)",
   "language": "python",
   "name": "python3"
  },
  "language_info": {
   "codemirror_mode": {
    "name": "ipython",
    "version": 3
   },
   "file_extension": ".py",
   "mimetype": "text/x-python",
   "name": "python",
   "nbconvert_exporter": "python",
   "pygments_lexer": "ipython3",
   "version": "3.10.9"
  }
 },
 "nbformat": 4,
 "nbformat_minor": 5
}
